{
 "cells": [
  {
   "cell_type": "code",
   "execution_count": null,
   "id": "a7c64ecb-43b8-48cc-8b63-1a230b57be6a",
   "metadata": {},
   "outputs": [],
   "source": [
    "import numpy as np\n",
    "import pandas as pd\n",
    "import matplotlib.pyplot as plt\n",
    "\n",
    "print(np.__version__)\n",
    "df = pd.read_csv(r\"week2.csv\",header=None,skiprows=1)\n",
    "print(df.head())\n",
    "X1=df.iloc[:,0].to_numpy()\n",
    "X2=df.iloc[:,1].to_numpy()\n",
    "X=np.column_stack((X1,X2))\n",
    "y=df.iloc[:,2]\n",
    "\n",
    "plt.figure(figsize=(8, 6))\n",
    "\n",
    "class_plus1 = y == 1\n",
    "class_minus1 = y == -1\n",
    "\n",
    "\n",
    "plt.scatter(X1[class_plus1], X2[class_plus1], marker='+', s=60, c='green', alpha=0.7, label='+1')\n",
    "plt.scatter(X1[class_minus1], X2[class_minus1], marker='o', s=30, c='blue', alpha=0.7, label='-1')\n",
    "plt.xlabel('x_1')\n",
    "plt.ylabel('x_2')\n",
    "plt.grid(True, alpha=0.3)\n",
    "plt.legend()\n",
    "plt.title('2D Feature Visualization')\n",
    "plt.axis('equal')\n",
    "plt.tight_layout()\n",
    "plt.show()"
   ]
  }
 ],
 "metadata": {
  "kernelspec": {
   "display_name": "Python 3 (ipykernel)",
   "language": "python",
   "name": "python3"
  },
  "language_info": {
   "codemirror_mode": {
    "name": "ipython",
    "version": 3
   },
   "file_extension": ".py",
   "mimetype": "text/x-python",
   "name": "python",
   "nbconvert_exporter": "python",
   "pygments_lexer": "ipython3",
   "version": "3.11.5"
  }
 },
 "nbformat": 4,
 "nbformat_minor": 5
}
